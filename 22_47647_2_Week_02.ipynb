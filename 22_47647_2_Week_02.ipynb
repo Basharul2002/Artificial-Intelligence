{
  "cells": [
    {
      "cell_type": "markdown",
      "metadata": {
        "id": "view-in-github",
        "colab_type": "text"
      },
      "source": [
        "<a href=\"https://colab.research.google.com/github/Basharul2002/AI/blob/main/22_47647_2_Week_02.ipynb\" target=\"_parent\"><img src=\"https://colab.research.google.com/assets/colab-badge.svg\" alt=\"Open In Colab\"/></a>"
      ]
    },
    {
      "cell_type": "markdown",
      "metadata": {
        "id": "gVdgbvf19OA9"
      },
      "source": [
        "# About this notebook\n",
        "<p style=\"text-align: justify\"> Here, you will learn the basic statements of python and function. Some codes will be given for demonstration. Some other codes, you will do as excercise.</p>\n",
        "\n",
        "## Submission\n",
        "<p style=\"text-align: justify\">After completing the practice codes and exercises, download the notebook (.pynb file) and submit the notebook  to MS Teams inbox in the class period</p>\n",
        "<p> 1.<b> You must submit your own code</b>. If similarity found negative marking will be given.</p>\n",
        "<p> 2. Modify the file name writing your ID at the beigining of the file name.</p><p> <b>Example: 20-45961-3 Lab 02.ipynb</b></p>\n",
        "<p> 3. Other file format (except .pynb) or link will not be accepted.</p>"
      ]
    },
    {
      "cell_type": "markdown",
      "metadata": {
        "id": "sVSQpyqT9OBH"
      },
      "source": [
        "# User Input"
      ]
    },
    {
      "cell_type": "code",
      "execution_count": 1,
      "metadata": {
        "colab": {
          "base_uri": "https://localhost:8080/"
        },
        "id": "JPTt3qbo9OBI",
        "outputId": "dd016772-ee83-4ab6-c324-61adb465253b"
      },
      "outputs": [
        {
          "output_type": "stream",
          "name": "stdout",
          "text": [
            "2002\n"
          ]
        }
      ],
      "source": [
        "a = 2002\n",
        "print(a)"
      ]
    },
    {
      "cell_type": "code",
      "source": [
        "a = input()\n",
        "print(a)\n",
        "print(type(a))"
      ],
      "metadata": {
        "id": "YCouIBhhorBO",
        "colab": {
          "base_uri": "https://localhost:8080/"
        },
        "outputId": "2a9bb328-a3c2-4018-ca41-6796e85cc490"
      },
      "execution_count": 2,
      "outputs": [
        {
          "output_type": "stream",
          "name": "stdout",
          "text": [
            "Basharul\n",
            "Basharul\n",
            "<class 'str'>\n"
          ]
        }
      ]
    },
    {
      "cell_type": "code",
      "execution_count": 3,
      "metadata": {
        "colab": {
          "base_uri": "https://localhost:8080/"
        },
        "id": "WgnNFESa9OBL",
        "outputId": "f0092730-2cc2-4e0d-c3ac-bb4ba632a453"
      },
      "outputs": [
        {
          "output_type": "stream",
          "name": "stdout",
          "text": [
            "Enter a value: Basharul\n",
            "The given value is Basharul\n",
            "<class 'str'>\n"
          ]
        }
      ],
      "source": [
        "a = input('Enter a value: ') # always returns string\n",
        "print('The given value is '+ a)\n",
        "print(type(a))"
      ]
    },
    {
      "cell_type": "code",
      "execution_count": 5,
      "metadata": {
        "id": "qGfffqzZ9OBM",
        "colab": {
          "base_uri": "https://localhost:8080/"
        },
        "outputId": "258fb846-9280-4c95-f35c-70e6ea4c9a18"
      },
      "outputs": [
        {
          "output_type": "stream",
          "name": "stdout",
          "text": [
            "Enter a number: 2002\n",
            "The result is 2013\n",
            "<class 'int'>\n"
          ]
        }
      ],
      "source": [
        "a = int(input('Enter a number: ')) # returns string but converted to int\n",
        "print('The result is', a + 11)\n",
        "print(type(a))"
      ]
    },
    {
      "cell_type": "code",
      "source": [
        "while True:\n",
        "  a = input('Enter your Birth Year:')\n",
        "  if a.isdigit():\n",
        "    print('You are ' + str(2024-int(a)) + ' years old')\n",
        "    print(2024-int(a))\n",
        "    break\n",
        "  print('WRONG INPUT')"
      ],
      "metadata": {
        "id": "LhsfvXa7lAk8",
        "colab": {
          "base_uri": "https://localhost:8080/"
        },
        "outputId": "4d28f683-ef81-486c-9f6e-8f5d3315d9e2"
      },
      "execution_count": 6,
      "outputs": [
        {
          "output_type": "stream",
          "name": "stdout",
          "text": [
            "Enter your Birth Year:2002\n",
            "You are 22 years old\n",
            "22\n"
          ]
        }
      ]
    },
    {
      "cell_type": "markdown",
      "metadata": {
        "id": "yd5uai6a9OBO"
      },
      "source": [
        "# if statement\n",
        "There can be zero or more elif parts, and the else part is optional. The keyword ‘elif’ is short for ‘else if’"
      ]
    },
    {
      "cell_type": "code",
      "execution_count": 9,
      "metadata": {
        "colab": {
          "base_uri": "https://localhost:8080/"
        },
        "id": "bkNWtGEA9OBP",
        "outputId": "d2b9e989-5136-4e14-f8c8-44ceb9e63837"
      },
      "outputs": [
        {
          "output_type": "stream",
          "name": "stdout",
          "text": [
            "okay\n",
            "fine\n",
            "not okay\n"
          ]
        }
      ],
      "source": [
        "# indent\n",
        "i = 2\n",
        "if i < 5: # () not required, {} not required\n",
        "  print('okay')\n",
        "  print('fine')\n",
        "else:\n",
        "  print('bad')\n",
        "print('not okay') # will be executed in each run"
      ]
    },
    {
      "cell_type": "code",
      "execution_count": 10,
      "metadata": {
        "colab": {
          "base_uri": "https://localhost:8080/"
        },
        "id": "4-2lHhfa9OBQ",
        "outputId": "df309e5d-e891-4479-9686-a8f8ede2b5c6"
      },
      "outputs": [
        {
          "output_type": "stream",
          "name": "stdout",
          "text": [
            "Please enter an integer: 2002\n",
            "More\n"
          ]
        }
      ],
      "source": [
        "x = int(input(\"Please enter an integer: \"))\n",
        "if x < 0:\n",
        "    x = 0\n",
        "    print('Negative changed to zero')\n",
        "elif x == 0:\n",
        "    print('Zero')\n",
        "elif x == 1:\n",
        "    print('One')\n",
        "else:\n",
        "  print('More')"
      ]
    },
    {
      "cell_type": "markdown",
      "metadata": {
        "id": "CeTgipag9OBR"
      },
      "source": [
        "<b>Exercise 1:</b> Input a course mark (0-100) from user and use the <b>if</b> statement to print corresponding grade."
      ]
    },
    {
      "cell_type": "code",
      "execution_count": 28,
      "metadata": {
        "id": "75nu_spY9OBS",
        "colab": {
          "base_uri": "https://localhost:8080/"
        },
        "outputId": "b68db83a-0e43-427a-a56d-2a4810245067"
      },
      "outputs": [
        {
          "output_type": "stream",
          "name": "stdout",
          "text": [
            "Enter your mark: 90\n",
            "Your grade is \n",
            "A+\n"
          ]
        }
      ],
      "source": [
        "num = input(\"Enter your mark: \")\n",
        "\n",
        "if not num.isdigit():\n",
        "  print('WRONG INPUT')\n",
        "\n",
        "else:\n",
        "  print(\"Your grade is \")\n",
        "  if int(num) >= 90:\n",
        "    print('A+')\n",
        "  elif int(num) >= 85:\n",
        "    print('A')\n",
        "  elif int(num) >= 80:\n",
        "    print('B+')\n",
        "  elif int(num) >= 75:\n",
        "    print('B')\n",
        "  elif int(num) >= 70:\n",
        "    print('C+')\n",
        "  elif int(num) >= 65:\n",
        "    print('C')\n",
        "  elif int(num) >= 60:\n",
        "    print('D+')\n",
        "  elif int(num) >= 50:\n",
        "    print('D')\n",
        "  else:\n",
        "    print('F')"
      ]
    },
    {
      "cell_type": "markdown",
      "metadata": {
        "id": "BLPDtgWr9OBT"
      },
      "source": [
        "# for statement\n",
        "<p style=\"text-align: justify\">The for statement in Python differs a bit from what you may be used to in C or C++. Rather than always giving the user the ability to define both the iteration step and halting condition, Python’s for statement iterates over the items of any sequence (a list or a string), in the order that they appear in the sequence.</p>"
      ]
    },
    {
      "cell_type": "code",
      "execution_count": 22,
      "metadata": {
        "colab": {
          "base_uri": "https://localhost:8080/"
        },
        "id": "k6eiUKVF9OBU",
        "outputId": "8f277aac-1e27-4964-e9b8-c69fd8a05abd"
      },
      "outputs": [
        {
          "output_type": "stream",
          "name": "stdout",
          "text": [
            "The word is: Basharul\n",
            "The word is: Alam\n",
            "The word is: AIUB\n",
            "The word is: CSE\n"
          ]
        }
      ],
      "source": [
        "# Measure some strings:\n",
        "words = ['Basharul', 'Alam', 'AIUB','CSE']\n",
        "\n",
        "for word in words:\n",
        "    print('The word is:',word)"
      ]
    },
    {
      "cell_type": "code",
      "source": [
        "words = ['Basharul', 'Alam', 'AIUB','CSE','Bangladesh']\n",
        "for i in range(len(words)):\n",
        "    print('the word is:',words[i])"
      ],
      "metadata": {
        "colab": {
          "base_uri": "https://localhost:8080/"
        },
        "id": "NdM3WOnovXx2",
        "outputId": "c2cd799c-425b-41fe-94ea-233f5728c650"
      },
      "execution_count": 23,
      "outputs": [
        {
          "output_type": "stream",
          "name": "stdout",
          "text": [
            "the word is: Basharul\n",
            "the word is: Alam\n",
            "the word is: AIUB\n",
            "the word is: CSE\n",
            "the word is: Bangladesh\n"
          ]
        }
      ]
    },
    {
      "cell_type": "code",
      "source": [
        "list(range(1, 100))"
      ],
      "metadata": {
        "colab": {
          "base_uri": "https://localhost:8080/"
        },
        "id": "22etO_4J87wJ",
        "outputId": "51357640-445b-464e-88dc-e083ac9a66a1"
      },
      "execution_count": 30,
      "outputs": [
        {
          "output_type": "execute_result",
          "data": {
            "text/plain": [
              "[1,\n",
              " 2,\n",
              " 3,\n",
              " 4,\n",
              " 5,\n",
              " 6,\n",
              " 7,\n",
              " 8,\n",
              " 9,\n",
              " 10,\n",
              " 11,\n",
              " 12,\n",
              " 13,\n",
              " 14,\n",
              " 15,\n",
              " 16,\n",
              " 17,\n",
              " 18,\n",
              " 19,\n",
              " 20,\n",
              " 21,\n",
              " 22,\n",
              " 23,\n",
              " 24,\n",
              " 25,\n",
              " 26,\n",
              " 27,\n",
              " 28,\n",
              " 29,\n",
              " 30,\n",
              " 31,\n",
              " 32,\n",
              " 33,\n",
              " 34,\n",
              " 35,\n",
              " 36,\n",
              " 37,\n",
              " 38,\n",
              " 39,\n",
              " 40,\n",
              " 41,\n",
              " 42,\n",
              " 43,\n",
              " 44,\n",
              " 45,\n",
              " 46,\n",
              " 47,\n",
              " 48,\n",
              " 49,\n",
              " 50,\n",
              " 51,\n",
              " 52,\n",
              " 53,\n",
              " 54,\n",
              " 55,\n",
              " 56,\n",
              " 57,\n",
              " 58,\n",
              " 59,\n",
              " 60,\n",
              " 61,\n",
              " 62,\n",
              " 63,\n",
              " 64,\n",
              " 65,\n",
              " 66,\n",
              " 67,\n",
              " 68,\n",
              " 69,\n",
              " 70,\n",
              " 71,\n",
              " 72,\n",
              " 73,\n",
              " 74,\n",
              " 75,\n",
              " 76,\n",
              " 77,\n",
              " 78,\n",
              " 79,\n",
              " 80,\n",
              " 81,\n",
              " 82,\n",
              " 83,\n",
              " 84,\n",
              " 85,\n",
              " 86,\n",
              " 87,\n",
              " 88,\n",
              " 89,\n",
              " 90,\n",
              " 91,\n",
              " 92,\n",
              " 93,\n",
              " 94,\n",
              " 95,\n",
              " 96,\n",
              " 97,\n",
              " 98,\n",
              " 99]"
            ]
          },
          "metadata": {},
          "execution_count": 30
        }
      ]
    },
    {
      "cell_type": "code",
      "execution_count": 39,
      "metadata": {
        "colab": {
          "base_uri": "https://localhost:8080/"
        },
        "id": "gxRxRU9B9OBW",
        "outputId": "ea2b0be5-14aa-441c-e704-915c7a7edf54"
      },
      "outputs": [
        {
          "output_type": "stream",
          "name": "stdout",
          "text": [
            "11\n",
            "66\n",
            "88\n",
            "18\n",
            "17\n"
          ]
        }
      ],
      "source": [
        "numbers = [1, 56, 78, 8,7]\n",
        "\n",
        "for n in numbers:\n",
        "    print(n+10)"
      ]
    },
    {
      "cell_type": "code",
      "source": [
        "list(range(5))"
      ],
      "metadata": {
        "colab": {
          "base_uri": "https://localhost:8080/"
        },
        "id": "xM7Q3lOs1Zq1",
        "outputId": "f5df4e3b-97a2-4a1a-d1cb-d7d033c11332"
      },
      "execution_count": 40,
      "outputs": [
        {
          "output_type": "execute_result",
          "data": {
            "text/plain": [
              "[0, 1, 2, 3, 4]"
            ]
          },
          "metadata": {},
          "execution_count": 40
        }
      ]
    },
    {
      "cell_type": "markdown",
      "metadata": {
        "id": "OnIIzz_29OBX"
      },
      "source": [
        "### The range() Function\n",
        "If you do need to iterate over a sequence of numbers, the built-in function range() comes in handy. It generates arithmetic progressions:"
      ]
    },
    {
      "cell_type": "code",
      "execution_count": 32,
      "metadata": {
        "colab": {
          "base_uri": "https://localhost:8080/"
        },
        "id": "eIvd_Nhy9OBY",
        "outputId": "84f933a1-7a3b-44b5-964c-e57d1519bdea"
      },
      "outputs": [
        {
          "output_type": "stream",
          "name": "stdout",
          "text": [
            "0\n",
            "10\n",
            "20\n",
            "30\n",
            "40\n",
            "50\n",
            "60\n",
            "70\n",
            "80\n",
            "90\n"
          ]
        }
      ],
      "source": [
        "# repeated for 0 to 4\n",
        "# for(i=0;i<5;i++)\n",
        "for i in range(0,100,10):\n",
        "    print(i)"
      ]
    },
    {
      "cell_type": "markdown",
      "source": [],
      "metadata": {
        "id": "AchXCJANSxdv"
      }
    },
    {
      "cell_type": "markdown",
      "metadata": {
        "id": "Tdu8trNj9OBZ"
      },
      "source": [
        "<p style=\"text-align: justify\">The given end point is never part of the generated sequence; range(10) generates 10 values, the legal indices for items of a sequence of length 10. It is possible to let the range start at another number, or to specify a different increment (even negative; sometimes this is called the ‘step’):</p>"
      ]
    },
    {
      "cell_type": "code",
      "execution_count": 41,
      "metadata": {
        "colab": {
          "base_uri": "https://localhost:8080/"
        },
        "id": "0l562ow69OBZ",
        "outputId": "c737bad3-06d5-46b1-c5da-c592fbafb6c2"
      },
      "outputs": [
        {
          "output_type": "execute_result",
          "data": {
            "text/plain": [
              "[5, 6, 7, 8, 9]"
            ]
          },
          "metadata": {},
          "execution_count": 41
        }
      ],
      "source": [
        "list(range(5, 10))"
      ]
    },
    {
      "cell_type": "code",
      "execution_count": 34,
      "metadata": {
        "colab": {
          "base_uri": "https://localhost:8080/"
        },
        "id": "7cGVhf0o9OBa",
        "outputId": "05e92ff8-956a-4902-cf32-474e83f66da8"
      },
      "outputs": [
        {
          "output_type": "execute_result",
          "data": {
            "text/plain": [
              "[0, 3, 6, 9]"
            ]
          },
          "metadata": {},
          "execution_count": 34
        }
      ],
      "source": [
        "list(range(0, 10, 3))"
      ]
    },
    {
      "cell_type": "code",
      "source": [
        "list(range(100, 0, -10))"
      ],
      "metadata": {
        "colab": {
          "base_uri": "https://localhost:8080/"
        },
        "id": "iJrB_nyirUin",
        "outputId": "e40b9c9f-f01a-4b77-c2ff-717328cdca1b"
      },
      "execution_count": 36,
      "outputs": [
        {
          "output_type": "execute_result",
          "data": {
            "text/plain": [
              "[100, 90, 80, 70, 60, 50, 40, 30, 20, 10]"
            ]
          },
          "metadata": {},
          "execution_count": 36
        }
      ]
    },
    {
      "cell_type": "code",
      "execution_count": 37,
      "metadata": {
        "colab": {
          "base_uri": "https://localhost:8080/"
        },
        "id": "NySucrFE9OBa",
        "outputId": "bd1d54a2-5050-4e02-b3d5-a3b01806d742"
      },
      "outputs": [
        {
          "output_type": "execute_result",
          "data": {
            "text/plain": [
              "[-10, -40, -70, -100]"
            ]
          },
          "metadata": {},
          "execution_count": 37
        }
      ],
      "source": [
        "list(range(-10, -101, -30))"
      ]
    },
    {
      "cell_type": "code",
      "execution_count": 42,
      "metadata": {
        "colab": {
          "base_uri": "https://localhost:8080/"
        },
        "id": "XF2vWGQb9OBb",
        "outputId": "7963635e-0a0a-465a-92b4-48696481ed1e"
      },
      "outputs": [
        {
          "output_type": "stream",
          "name": "stdout",
          "text": [
            "0 1\n",
            "1 56\n",
            "2 78\n",
            "3 8\n",
            "4 7\n"
          ]
        }
      ],
      "source": [
        "for i in range(len(numbers)):\n",
        "    print(i, numbers[i])"
      ]
    },
    {
      "cell_type": "code",
      "execution_count": 43,
      "metadata": {
        "colab": {
          "base_uri": "https://localhost:8080/"
        },
        "id": "O4fHt_Qt9OBb",
        "outputId": "d277c3fc-88fa-4ced-d734-e8e0fbf5e21c"
      },
      "outputs": [
        {
          "output_type": "stream",
          "name": "stdout",
          "text": [
            "10,20,30,40,50,60,70,80,90,"
          ]
        }
      ],
      "source": [
        "for i in range(10,100,10):\n",
        "    print(i, end=',')"
      ]
    },
    {
      "cell_type": "markdown",
      "metadata": {
        "id": "_0M3Y1F09OBc"
      },
      "source": [
        "<b>Exercise 2:</b> Print all the even numbers between 0 to 100 using <b>for loop</b> and <b>range</b>."
      ]
    },
    {
      "cell_type": "code",
      "execution_count": 48,
      "metadata": {
        "id": "nzKgmsMy9OBc",
        "colab": {
          "base_uri": "https://localhost:8080/"
        },
        "outputId": "0339ba13-678a-40d6-f1d2-3c835ee8d93e"
      },
      "outputs": [
        {
          "output_type": "stream",
          "name": "stdout",
          "text": [
            "0 2 4 6 8 10 12 14 16 18 20 22 24 26 28 30 32 34 36 38 40 42 44 46 48 50 52 54 56 58 60 62 64 66 68 70 72 74 76 78 80 82 84 86 88 90 92 94 96 98 100 "
          ]
        }
      ],
      "source": [
        "for i in range(0,101,2):\n",
        "    print(i, end = ' ')"
      ]
    },
    {
      "cell_type": "code",
      "execution_count": 49,
      "metadata": {
        "colab": {
          "base_uri": "https://localhost:8080/"
        },
        "id": "CxyodY3I9OBd",
        "outputId": "3575da5b-1554-4bf0-8e7f-0302ea47068e"
      },
      "outputs": [
        {
          "output_type": "stream",
          "name": "stdout",
          "text": [
            "b a n g l a d e s h "
          ]
        }
      ],
      "source": [
        "country = \"bangladesh\"\n",
        "for c in country:\n",
        "    print(c,end=' ')"
      ]
    },
    {
      "cell_type": "markdown",
      "metadata": {
        "id": "UpWE7Kch9OBd"
      },
      "source": [
        "# Functions\n",
        "<p style=\"text-align: justify\">The keyword def introduces a function definition. It must be followed by the function name and the parenthesized list of formal parameters. The statements that form the body of the function start at the next line, and must be indented.</p>"
      ]
    },
    {
      "cell_type": "code",
      "source": [
        "from math import sqrt\n",
        "\n",
        "def isPrime(num):\n",
        "  if num <= 1:\n",
        "    return False\n",
        "  for i in range(2, int(sqrt(num)) + 1):\n",
        "    if num % i == 0:\n",
        "      return False\n",
        "  return True\n",
        "\n",
        "# Check if a few numbers are prime\n",
        "numbers = [2, 3, 4, 5, 6, 7, 8, 9, 10, 11]\n",
        "for num in numbers:\n",
        "  if isPrime(num):\n",
        "    print(num, \"is prime\")\n",
        "  else:\n",
        "    print(num, \"is not prime\")\n"
      ],
      "metadata": {
        "id": "YRU1pFyIKR5B",
        "colab": {
          "base_uri": "https://localhost:8080/"
        },
        "outputId": "42ef9eb5-38a0-495b-92bd-45e6423fa38c"
      },
      "execution_count": 54,
      "outputs": [
        {
          "output_type": "stream",
          "name": "stdout",
          "text": [
            "2 is prime\n",
            "3 is prime\n",
            "4 is not prime\n",
            "5 is prime\n",
            "6 is not prime\n",
            "7 is prime\n",
            "8 is not prime\n",
            "9 is not prime\n",
            "10 is not prime\n",
            "11 is prime\n"
          ]
        }
      ]
    },
    {
      "cell_type": "code",
      "execution_count": 53,
      "metadata": {
        "id": "zZaBBUgb9OBd"
      },
      "outputs": [],
      "source": [
        "def fib(n):    # write Fibonacci series up to n\n",
        "    lst = [0,1]\n",
        "    a, b = 0, 1\n",
        "    while True:\n",
        "        #print(a, end=' ')\n",
        "        a, b = b, a+b\n",
        "        if b < n:\n",
        "          lst.append(b)\n",
        "        else:\n",
        "          break\n",
        "        #print()\n",
        "    return lst\n"
      ]
    },
    {
      "cell_type": "code",
      "execution_count": null,
      "metadata": {
        "colab": {
          "base_uri": "https://localhost:8080/"
        },
        "id": "aFCr3Pc99OBe",
        "outputId": "af6e94ca-9a7c-4eae-ebb4-a67a7718d8c1"
      },
      "outputs": [
        {
          "output_type": "stream",
          "name": "stdout",
          "text": [
            "[0, 1, 1, 2, 3, 5, 8, 13, 21, 34, 55, 89, 144, 233, 377, 610, 987]\n"
          ]
        }
      ],
      "source": [
        "# Now call the function we just defined:\n",
        "r = fib(1000)\n",
        "print(r)"
      ]
    },
    {
      "cell_type": "code",
      "execution_count": 55,
      "metadata": {
        "id": "_SueK7ww9OBe"
      },
      "outputs": [],
      "source": [
        "# define method\n",
        "def addnumbers(a, b): # add numbers and return result\n",
        "    # logic\n",
        "    c = a + b\n",
        "    return c"
      ]
    },
    {
      "cell_type": "code",
      "source": [
        "addnumbers(2,23)"
      ],
      "metadata": {
        "id": "8fRPogdbzLSI",
        "colab": {
          "base_uri": "https://localhost:8080/"
        },
        "outputId": "e794d837-8ffa-4844-d545-8cc211a0746c"
      },
      "execution_count": 56,
      "outputs": [
        {
          "output_type": "execute_result",
          "data": {
            "text/plain": [
              "25"
            ]
          },
          "metadata": {},
          "execution_count": 56
        }
      ]
    },
    {
      "cell_type": "code",
      "execution_count": 62,
      "metadata": {
        "colab": {
          "base_uri": "https://localhost:8080/"
        },
        "id": "WX14lRM59OBe",
        "outputId": "6fa4b8bb-569d-4066-9367-d80f4e023bc9"
      },
      "outputs": [
        {
          "output_type": "stream",
          "name": "stdout",
          "text": [
            "02-BB-05\n"
          ]
        }
      ],
      "source": [
        "y = addnumbers('02-B', 'B-05') # use or call method\n",
        "print(y)"
      ]
    },
    {
      "cell_type": "code",
      "execution_count": 63,
      "metadata": {
        "id": "rVpfHNMo9OBf",
        "outputId": "aa87d2cc-8da5-415c-9609-51592173b799",
        "colab": {
          "base_uri": "https://localhost:8080/"
        }
      },
      "outputs": [
        {
          "output_type": "execute_result",
          "data": {
            "text/plain": [
              "[10, 100, 66]"
            ]
          },
          "metadata": {},
          "execution_count": 63
        }
      ],
      "source": [
        "addnumbers([10, 100], [66])"
      ]
    },
    {
      "cell_type": "code",
      "execution_count": 76,
      "metadata": {
        "id": "S1xGUH_N9OBf"
      },
      "outputs": [],
      "source": [
        "# add list values\n",
        "def addValues(num):\n",
        "    sum = 0\n",
        "    for n in num:\n",
        "      print('Values: ' , n)\n",
        "      sum = sum + n\n",
        "    return sum"
      ]
    },
    {
      "cell_type": "code",
      "source": [
        "print('Sum: ', addValues(range(5)))"
      ],
      "metadata": {
        "colab": {
          "base_uri": "https://localhost:8080/"
        },
        "id": "I4W3uWLsrH-4",
        "outputId": "4d3248ec-a860-4a82-f0af-49fae2262a32"
      },
      "execution_count": 78,
      "outputs": [
        {
          "output_type": "stream",
          "name": "stdout",
          "text": [
            "Values:  0\n",
            "Values:  1\n",
            "Values:  2\n",
            "Values:  3\n",
            "Values:  4\n",
            "Sum:  10\n"
          ]
        }
      ]
    },
    {
      "cell_type": "code",
      "execution_count": 79,
      "metadata": {
        "id": "CqJJSRvK9OBf",
        "colab": {
          "base_uri": "https://localhost:8080/"
        },
        "outputId": "419290a1-8eab-40ea-cad8-f29cfd63d7a8"
      },
      "outputs": [
        {
          "output_type": "stream",
          "name": "stdout",
          "text": [
            "Values:  1\n",
            "Values:  10\n",
            "Sum:  11\n"
          ]
        }
      ],
      "source": [
        "print('Sum: ', addValues([1, 10]))"
      ]
    },
    {
      "cell_type": "code",
      "execution_count": 80,
      "metadata": {
        "id": "egl16dJp9OBg",
        "colab": {
          "base_uri": "https://localhost:8080/"
        },
        "outputId": "6bc2c799-7902-4164-c08f-c7ed2857c7d7"
      },
      "outputs": [
        {
          "output_type": "stream",
          "name": "stdout",
          "text": [
            "Values:  5\n",
            "Values:  4\n",
            "Values:  12\n",
            "Values:  7\n",
            "Sum of arrays value:  28\n"
          ]
        }
      ],
      "source": [
        "v = [5, 4,12, 7]\n",
        "print('Sum of arrays value: ', addValues(v))"
      ]
    },
    {
      "cell_type": "code",
      "source": [],
      "metadata": {
        "id": "xLgwZlvbrirQ"
      },
      "execution_count": null,
      "outputs": []
    },
    {
      "cell_type": "code",
      "execution_count": 81,
      "metadata": {
        "id": "HKIYxiaK9OBg",
        "colab": {
          "base_uri": "https://localhost:8080/"
        },
        "outputId": "5c419e08-d014-4c08-aa51-e0cde437bc8b"
      },
      "outputs": [
        {
          "output_type": "stream",
          "name": "stdout",
          "text": [
            "Values:  5\n",
            "Values:  4\n",
            "Values:  12\n",
            "Values:  7\n",
            "Values:  5\n",
            "Values:  4\n",
            "Values:  12\n",
            "Values:  7\n",
            "Values:  5\n",
            "Values:  4\n",
            "Values:  12\n",
            "Values:  7\n",
            "Sum of array:  84\n"
          ]
        }
      ],
      "source": [
        "v = [5, 4,12, 7, 5, 4,12, 7, 5, 4,12, 7]\n",
        "print('Sum of array: ', addValues(v))"
      ]
    },
    {
      "cell_type": "code",
      "execution_count": 89,
      "metadata": {
        "id": "SksLGPeh9OBh"
      },
      "outputs": [],
      "source": [
        "# method/function\n",
        "def multiTable(n, r=10):\n",
        "    for i in range(1,r+1):\n",
        "        print(\"{}x{} = {}\".format(n,i,n*i))"
      ]
    },
    {
      "cell_type": "markdown",
      "source": [],
      "metadata": {
        "id": "UyrYEKY48OA3"
      }
    },
    {
      "cell_type": "code",
      "execution_count": 90,
      "metadata": {
        "id": "5X6DqTib9OBh",
        "colab": {
          "base_uri": "https://localhost:8080/"
        },
        "outputId": "8874abf8-211e-4601-de9e-0e8cc82069a9"
      },
      "outputs": [
        {
          "output_type": "stream",
          "name": "stdout",
          "text": [
            "10x1 = 10\n",
            "10x2 = 20\n",
            "10x3 = 30\n",
            "10x4 = 40\n",
            "10x5 = 50\n",
            "10x6 = 60\n",
            "10x7 = 70\n",
            "10x8 = 80\n",
            "10x9 = 90\n",
            "10x10 = 100\n"
          ]
        }
      ],
      "source": [
        "multiTable(10)"
      ]
    },
    {
      "cell_type": "code",
      "execution_count": 91,
      "metadata": {
        "id": "gfyLgPF29OBh",
        "colab": {
          "base_uri": "https://localhost:8080/"
        },
        "outputId": "0d7d1e7c-f63d-4a8a-bbb2-e393da1e0dd6"
      },
      "outputs": [
        {
          "output_type": "stream",
          "name": "stdout",
          "text": [
            "15x1 = 15\n",
            "15x2 = 30\n",
            "15x3 = 45\n",
            "15x4 = 60\n",
            "15x5 = 75\n",
            "15x6 = 90\n",
            "15x7 = 105\n",
            "15x8 = 120\n",
            "15x9 = 135\n",
            "15x10 = 150\n"
          ]
        }
      ],
      "source": [
        "multiTable(15)"
      ]
    },
    {
      "cell_type": "markdown",
      "metadata": {
        "id": "ICNPFsDQ9OBh"
      },
      "source": [
        "<b>Exercise 3:</b> Define a <b>method/function</b> which will take two lists of numbers and returns a list (sum of two lists)\n",
        "<p>Example:<br>\n",
        "    Input: [3,4,5,1] and [6,7,2,8]<br>\n",
        "    output: [9,11,7,9]</p>\n"
      ]
    },
    {
      "cell_type": "code",
      "execution_count": 108,
      "metadata": {
        "id": "5MPMcHnz9OBi",
        "colab": {
          "base_uri": "https://localhost:8080/"
        },
        "outputId": "d03aab67-ba9b-4f04-e0b0-a02b852b431b"
      },
      "outputs": [
        {
          "output_type": "execute_result",
          "data": {
            "text/plain": [
              "[4, 0, 0, 7, 7]"
            ]
          },
          "metadata": {},
          "execution_count": 108
        }
      ],
      "source": [
        "def addValues(num1, num2):\n",
        "    len_diff = len(num1) - len(num2)\n",
        "\n",
        "    if len_diff > 0:\n",
        "        num2.extend([0] * len_diff)\n",
        "    elif len_diff < 0:\n",
        "        num1.extend([0] * abs(len_diff))\n",
        "\n",
        "    sum_list = []\n",
        "\n",
        "    for i in range(len(num1)):\n",
        "        sum_list.append(num1[i] + num2[i])\n",
        "\n",
        "    return sum_list\n",
        "\n",
        "addValues([2, 0, 0, 2, 7], [2, 0, 0, 5])\n",
        "\n"
      ]
    },
    {
      "cell_type": "markdown",
      "metadata": {
        "id": "DSjaC86G9OBi"
      },
      "source": [
        "<b> Exercise 4:</b> Write a <b>method</b> which will take the <b>full name</b> as input and return both the first name and last name.\n",
        "<p>Example:<br>\n",
        "    Input: Arafat Rahman Sunny<br>\n",
        "    Output: First name: Arafat, Last name: Sunny</p>"
      ]
    },
    {
      "cell_type": "code",
      "execution_count": 100,
      "metadata": {
        "id": "HCpI48lj9OBi",
        "colab": {
          "base_uri": "https://localhost:8080/",
          "height": 35
        },
        "outputId": "a813f8ce-8f8a-4cc3-9e44-262bf329a4c5"
      },
      "outputs": [
        {
          "output_type": "execute_result",
          "data": {
            "text/plain": [
              "'First name: Arafat, Last name: Sunny'"
            ],
            "application/vnd.google.colaboratory.intrinsic+json": {
              "type": "string"
            }
          },
          "metadata": {},
          "execution_count": 100
        }
      ],
      "source": [
        "def name(name):\n",
        "  name = name.split()\n",
        "  return (f'First name: {name[0]}, Last name: {name[-1]}')\n",
        "\n",
        "name('Arafat Rahman Sunny')"
      ]
    },
    {
      "cell_type": "markdown",
      "metadata": {
        "id": "rQ1Zq6Dm9OBj"
      },
      "source": [
        "# Output Formatting (Optional)\n",
        "Go to the [link](https://docs.python.org/3/tutorial/inputoutput.html#formatted-string-literals) and practice the codes below."
      ]
    },
    {
      "cell_type": "code",
      "execution_count": 102,
      "metadata": {
        "id": "yFN0SVO29OBj",
        "colab": {
          "base_uri": "https://localhost:8080/"
        },
        "outputId": "e08bfb9c-4374-4d6d-d3b0-1e69f0d96951"
      },
      "outputs": [
        {
          "output_type": "stream",
          "name": "stdout",
          "text": [
            "Enter your name: Basharul Alam Mazu\n",
            "Enter your birthyear: 2002\n",
            "Hello Basharul Alam Mazu, you are 22 years old\n"
          ]
        }
      ],
      "source": [
        "name = input(\"Enter your name: \")\n",
        "birthYear = input(\"Enter your birthyear: \")\n",
        "print(f'Hello {name}, you are {2024-int(birthYear)} years old')"
      ]
    }
  ],
  "metadata": {
    "kernelspec": {
      "display_name": "Python 3",
      "language": "python",
      "name": "python3"
    },
    "language_info": {
      "codemirror_mode": {
        "name": "ipython",
        "version": 3
      },
      "file_extension": ".py",
      "mimetype": "text/x-python",
      "name": "python",
      "nbconvert_exporter": "python",
      "pygments_lexer": "ipython3",
      "version": "3.8.5"
    },
    "colab": {
      "provenance": [],
      "include_colab_link": true
    }
  },
  "nbformat": 4,
  "nbformat_minor": 0
}